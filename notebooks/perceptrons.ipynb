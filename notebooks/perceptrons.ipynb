{
 "cells": [
  {
   "cell_type": "code",
   "execution_count": 1,
   "metadata": {
    "ExecuteTime": {
     "end_time": "2021-01-10T06:38:09.134456Z",
     "start_time": "2021-01-10T06:38:08.411638Z"
    }
   },
   "outputs": [],
   "source": [
    "from matplotlib import pyplot\n",
    "from sklearn.datasets import make_blobs\n",
    "from sklearn.preprocessing import StandardScaler\n",
    "from sklearn.model_selection import train_test_split"
   ]
  },
  {
   "cell_type": "code",
   "execution_count": 10,
   "metadata": {
    "ExecuteTime": {
     "end_time": "2021-01-10T06:39:06.743867Z",
     "start_time": "2021-01-10T06:39:06.660142Z"
    }
   },
   "outputs": [
    {
     "data": {
      "image/png": "[encoded data removed]",
      "text/plain": [
       "<Figure size 432x288 with 1 Axes>"
      ]
     },
     "metadata": {
      "needs_background": "light"
     },
     "output_type": "display_data"
    }
   ],
   "source": [
    "# Generate linear separable patterns\n",
    "features, labels = make_blobs(\n",
    "    n_samples=100, centers=2, n_features=1, center_box=(0, 10), random_state=42\n",
    ")\n",
    "x_train, x_test, y_train, y_test = train_test_split(\n",
    "    features, labels, random_state=42, test_size=0.2\n",
    ")\n",
    "scaler = StandardScaler()\n",
    "x_train = scaler.fit_transform(x_train)\n",
    "x_test = scaler.transform(x_test)\n",
    "# Plot entire dataset\n",
    "pyplot.plot(features[:, 0][labels == 0], \"r*\")\n",
    "pyplot.plot(features[:, 0][labels == 1], \"bs\")\n",
    "pyplot.show()"
   ]
  },
  {
   "cell_type": "code",
   "execution_count": 3,
   "metadata": {
    "ExecuteTime": {
     "end_time": "2021-01-10T06:38:11.827485Z",
     "start_time": "2021-01-10T06:38:11.825808Z"
    }
   },
   "outputs": [],
   "source": [
    "import numpy as np"
   ]
  },
  {
   "cell_type": "code",
   "execution_count": 11,
   "metadata": {
    "ExecuteTime": {
     "end_time": "2021-01-10T06:39:10.845965Z",
     "start_time": "2021-01-10T06:39:10.843406Z"
    }
   },
   "outputs": [],
   "source": [
    "def sign(x):\n",
    "    if x >= 0:\n",
    "        return 1\n",
    "    else:\n",
    "        return -1\n",
    "\n",
    "\n",
    "def perceptron(x, weights):\n",
    "    return weights.T @ x"
   ]
  },
  {
   "cell_type": "code",
   "execution_count": 12,
   "metadata": {
    "ExecuteTime": {
     "end_time": "2021-01-10T06:39:11.413311Z",
     "start_time": "2021-01-10T06:39:11.409249Z"
    }
   },
   "outputs": [],
   "source": [
    "# Train data preprocess\n",
    "redundancy_train = np.array([-1] * x_train.shape[0], dtype=np.float32).reshape(-1, 1)\n",
    "x_train_with_bias = np.concatenate([redundancy_train, x_train], axis=1)[:, :, None]\n",
    "y_train_signed = np.where(y_train == 0, -1, 1)\n",
    "# Test data preprocess\n",
    "redundancy_test = np.array([-1] * x_test.shape[0], dtype=np.float32).reshape(-1, 1)\n",
    "x_test_with_bias = np.concatenate([redundancy_test, x_test], axis=1)[:, :, None]\n",
    "y_test_signed = np.where(y_test == 0, -1, 1)"
   ]
  },
  {
   "cell_type": "code",
   "execution_count": 49,
   "metadata": {
    "ExecuteTime": {
     "end_time": "2021-01-10T06:46:50.157342Z",
     "start_time": "2021-01-10T06:46:50.058760Z"
    }
   },
   "outputs": [
    {
     "data": {
      "image/png": "[encoded data removed]",
      "text/plain": [
       "<Figure size 432x288 with 1 Axes>"
      ]
     },
     "metadata": {
      "needs_background": "light"
     },
     "output_type": "display_data"
    }
   ],
   "source": [
    "# Initial weights\n",
    "weights = np.zeros(x_train_with_bias.shape[1], dtype=np.float32)[:, None]\n",
    "# Set threshold\n",
    "weights[0] = 1\n",
    "# Loss curve\n",
    "errors = []\n",
    "for x, y in zip(x_train_with_bias, y_train_signed):\n",
    "    r = sign(perceptron(x, weights))\n",
    "    e = y - r \n",
    "    weights[1:] = weights[1:] + e * x[1:]\n",
    "    errors.append(e)\n",
    "pyplot.plot(errors, linewidth=0, marker=\".\")\n",
    "pyplot.show()\n",
    "predictions = []\n",
    "for x, y in zip(x_test_with_bias, y_test_signed):\n",
    "    r = sign(perceptron(x, weights))\n",
    "    predictions.append(r)\n",
    "predictions = np.array(predictions)"
   ]
  },
  {
   "cell_type": "code",
   "execution_count": 46,
   "metadata": {
    "ExecuteTime": {
     "end_time": "2021-01-10T06:46:35.924260Z",
     "start_time": "2021-01-10T06:46:35.922455Z"
    }
   },
   "outputs": [],
   "source": [
    "from sklearn.metrics import f1_score, accuracy_score"
   ]
  },
  {
   "cell_type": "code",
   "execution_count": 47,
   "metadata": {
    "ExecuteTime": {
     "end_time": "2021-01-10T06:46:36.052907Z",
     "start_time": "2021-01-10T06:46:36.049729Z"
    }
   },
   "outputs": [
    {
     "name": "stdout",
     "output_type": "stream",
     "text": [
      "f1: 1.0\n",
      "accuracy: 1.0\n"
     ]
    }
   ],
   "source": [
    "print(\"f1:\", f1_score(predictions, y_test_signed))\n",
    "print(\"accuracy:\", accuracy_score(predictions, y_test_signed))"
   ]
  },
  {
   "cell_type": "code",
   "execution_count": 33,
   "metadata": {
    "ExecuteTime": {
     "end_time": "2021-01-10T06:42:15.972974Z",
     "start_time": "2021-01-10T06:42:15.970778Z"
    }
   },
   "outputs": [],
   "source": [
    "from sklearn.linear_model import LogisticRegression\n",
    "from sklearn.svm import LinearSVC"
   ]
  },
  {
   "cell_type": "code",
   "execution_count": 34,
   "metadata": {
    "ExecuteTime": {
     "end_time": "2021-01-10T06:42:17.030206Z",
     "start_time": "2021-01-10T06:42:17.026046Z"
    }
   },
   "outputs": [
    {
     "name": "stderr",
     "output_type": "stream",
     "text": [
      "/nix/store/82xgbrx7jh6h4mf47jhfw3lswyvfrs4w-python3.7-scikit-learn-0.21.3/lib/python3.7/site-packages/sklearn/linear_model/logistic.py:432: FutureWarning: Default solver will be changed to 'lbfgs' in 0.22. Specify a solver to silence this warning.\n",
      "  FutureWarning)\n"
     ]
    },
    {
     "data": {
      "text/plain": [
       "1.0"
      ]
     },
     "execution_count": 34,
     "metadata": {},
     "output_type": "execute_result"
    }
   ],
   "source": [
    "logreg = LogisticRegression()\n",
    "logreg.fit(x_train, y_train)\n",
    "logreg.score(x_test, y_test)"
   ]
  },
  {
   "cell_type": "code",
   "execution_count": 79,
   "metadata": {
    "ExecuteTime": {
     "end_time": "2021-01-09T17:14:58.157985Z",
     "start_time": "2021-01-09T17:14:58.152090Z"
    }
   },
   "outputs": [
    {
     "data": {
      "text/plain": [
       "0.996"
      ]
     },
     "execution_count": 79,
     "metadata": {},
     "output_type": "execute_result"
    }
   ],
   "source": [
    "svm = LinearSVC()\n",
    "svm.fit(x_train, y_train)\n",
    "svm.score(x_test, y_test)"
   ]
  },
  {
   "cell_type": "code",
   "execution_count": null,
   "metadata": {},
   "outputs": [],
   "source": []
  }
 ],
 "metadata": {
  "kernelspec": {
   "display_name": "Python 3",
   "language": "python",
   "name": "python3"
  },
  "language_info": {
   "codemirror_mode": {
    "name": "ipython",
    "version": 3
   },
   "file_extension": ".py",
   "mimetype": "text/x-python",
   "name": "python",
   "nbconvert_exporter": "python",
   "pygments_lexer": "ipython3",
   "version": "3.7.6"
  }
 },
 "nbformat": 4,
 "nbformat_minor": 4
}
